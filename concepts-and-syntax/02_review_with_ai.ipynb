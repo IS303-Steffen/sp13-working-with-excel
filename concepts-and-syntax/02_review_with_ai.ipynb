{
 "cells": [
  {
   "cell_type": "markdown",
   "id": "0b7cb6f8",
   "metadata": {},
   "source": [
    "\n",
    "# Review with AI: Working with Excel\n",
    "\n",
    "Use this notebook to review your understanding of using the `openpyxl` library to work with Excel files in Python.\n",
    "\n",
    "### How to use this notebook:\n",
    "- **Copy and paste** the provided prompts and questions into your preferred AI tool (such as ChatGPT or Copilot).\n",
    "- **Check your understanding** by explaining concepts in your own words and having AI clarify or correct your explanation.\n",
    "- **Generate a practice problem** using the prompt below and try solving it before asking AI to check your work.\n"
   ]
  },
  {
   "cell_type": "markdown",
   "id": "f522fc51",
   "metadata": {},
   "source": [
    "\n",
    "## AI Setup Prompt\n",
    "\n",
    "Paste this into your AI tool before asking questions:\n",
    "\n",
    "```\n",
    "I am a beginner in an introductory Python programming course. When I ask questions or describe a concept, please respond as my tutor by explaining in simple, easy-to-understand language. Correct any mistakes I make and help clarify misconceptions. You can use examples or metaphors to help explain concepts when needed. Let me know if my understanding is correct or where I might be going wrong.\n",
    "```\n"
   ]
  },
  {
   "cell_type": "markdown",
   "id": "37b22525",
   "metadata": {},
   "source": [
    "\n",
    "## Questions to Review Concepts\n",
    "\n",
    "Ask your AI tutor these questions to reinforce your understanding of working with Excel:\n",
    "\n",
    "- What are some of the most common uses for `openpyxl`?\n",
    "- Why would I use `openpyxl` with Python instead of just using Excel or VBA?\n",
    "- What’s the difference between a Workbook, a Worksheet, and a cell?\n",
    "- How do I loop through a worksheet using `iter_rows()`?\n",
    "- How can I format cells using `openpyxl`?\n"
   ]
  },
  {
   "cell_type": "markdown",
   "id": "2d6a0c1d",
   "metadata": {},
   "source": [
    "\n",
    "## Check Your Understanding\n",
    "\n",
    "Try explaining these ideas to AI in your own words and ask it to clarify or correct as needed:\n",
    "\n",
    "- How you can open existing workbooks or create new ones from scratch.\n",
    "- How to get access to specific sheets and modify cells on those sheets.\n",
    "- How to append data or loop through rows in a worksheet.\n"
   ]
  },
  {
   "cell_type": "markdown",
   "id": "7acb7605",
   "metadata": {},
   "source": [
    "\n",
    "## Generate Your Own Practice Question\n",
    "\n",
    "Use the following prompt to have AI generate a beginner-level openpyxl problem for you. Try solving it before asking for the answer.\n",
    "\n",
    "```\n",
    "I am a beginning python student in an intro course that is learning coding for the first time. I want you to create a practice problem for me on using openpyxl. So far, I've learned how to create variables, getting inputs, some popular built-in functions, if statements, some basic for and while loops, lists, dictionaries, writing custom functions, exception handling, making basic objects with class/instance variables and methods, as well as some other OOP principles like inheritance. The problem you ma...\n",
    "```\n"
   ]
  }
 ],
 "metadata": {},
 "nbformat": 4,
 "nbformat_minor": 5
}
