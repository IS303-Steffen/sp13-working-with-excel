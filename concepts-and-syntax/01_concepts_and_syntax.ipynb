{
 "cells": [
  {
   "cell_type": "markdown",
   "id": "01c51a5b",
   "metadata": {},
   "source": [
    "\n",
    "# Syntax & Concepts: Working with Excel\n",
    "\n",
    "### Before Class:\n",
    "\n",
    "1. **Read this notebook and attempt each \"You Try\" section.**\n",
    "    - Need help? Check the AI tips or your textbook.\n",
    "\n",
    "2. **Complete at least one practice problem from this chapter.**\n",
    "    - Problems are ordered from easiest to hardest.\n",
    "    - Stuck? Copy and paste the instructions and AI prompt into your preferred AI service for guided help.\n",
    "\n",
    "3. **Submit your attempted practice problem code in the \"Class Prep Report\" on Learning Suite for credit.**\n",
    "\n",
    "#### Need more explanation? Copy and paste this AI prompt along with any code you have questions about:\n",
    "(Double-click the text below, then copy and paste it into your AI service.)\n",
    "\n",
    "```\n",
    "I am new to Python and just starting to learn coding. I need simple, clear explanations. When I ask a question or show my code, act like my personal tutor: correct mistakes gently, clarify misconceptions, and use easy-to-follow language. Feel free to use examples or metaphors to help me understand. Let me know when I'm doing well or what I need to adjust.\n",
    "```\n"
   ]
  },
  {
   "cell_type": "markdown",
   "id": "3cbc7df9",
   "metadata": {},
   "source": [
    "\n",
    "### Chapter Summary\n",
    "\n",
    "This chapter introduces the `openpyxl` library and shows you how to use Python to read from and write to Excel files.\n",
    "\n",
    "Key concepts:\n",
    "- Installing external packages using `pip`\n",
    "- Creating new Excel files and worksheets\n",
    "- Writing and appending data to sheets\n",
    "- Looping through multiple sheets\n",
    "- Loading and modifying existing workbooks\n",
    "\n",
    "You’ll use `openpyxl` to create or edit `.xlsx` files—this is especially helpful for automating business reporting and data entry tasks.\n"
   ]
  },
  {
   "cell_type": "markdown",
   "id": "395d6529",
   "metadata": {},
   "source": [
    "\n",
    "## 1: Installing openpyxl\n",
    "\n",
    "The `openpyxl` library isn't part of the Python standard library, so you need to install it using `pip` before importing it.\n",
    "\n",
    "In the Terminal (not the normal Python file) type this and then press enter:\n",
    "\n",
    "`pip install openpyxl`\n",
    "\n",
    "If that doesn't work, try this:\n",
    "\n",
    "`pip3 install openpyxl`\n",
    "\n",
    "Occasionally, some students have trouble getting this to work. If that's the case, don't worry about it. We'll make sure to get you up and running when you come to class.\n"
   ]
  },
  {
   "cell_type": "markdown",
   "id": "5dca1675",
   "metadata": {},
   "source": [
    "\n",
    "### 1.p: You Try\n",
    "\n",
    "Use your terminal (not this notebook) to install openpyxl, then try importing it below.\n"
   ]
  },
  {
   "cell_type": "code",
   "execution_count": null,
   "id": "036dbb37",
   "metadata": {},
   "outputs": [],
   "source": [
    "import openpyxl"
   ]
  },
  {
   "cell_type": "markdown",
   "id": "669bba4f",
   "metadata": {},
   "source": [
    "\n",
    "## 2: Creating a Workbook and Writing to It\n",
    "\n",
    "You can create a new Excel file using `Workbook()`, write data with `.append()`, and save it with `.save()`.\n"
   ]
  },
  {
   "cell_type": "code",
   "execution_count": null,
   "id": "82d6fa3d",
   "metadata": {},
   "outputs": [],
   "source": [
    "from openpyxl import Workbook\n",
    "\n",
    "wb = Workbook()\n",
    "ws = wb.active\n",
    "ws.title = \"Sales\"\n",
    "ws.append([\"Item\", \"Amount\"])\n",
    "ws.append([\"T-shirt\", 20])\n",
    "wb.save(\"sales.xlsx\")"
   ]
  },
  {
   "cell_type": "markdown",
   "id": "cbe5f9d6",
   "metadata": {},
   "source": [
    "\n",
    "### 2.p: You Try\n",
    "\n",
    "Create a new workbook, rename the sheet to `Expenses`, and add one row of data with a name and amount.\n"
   ]
  },
  {
   "cell_type": "code",
   "execution_count": null,
   "id": "0846dd72",
   "metadata": {},
   "outputs": [],
   "source": [
    "# Your code here\n"
   ]
  },
  {
   "cell_type": "markdown",
   "id": "0ab49e05",
   "metadata": {},
   "source": [
    "\n",
    "## 3: Adding Multiple Sheets\n",
    "\n",
    "You can create additional worksheets using `.create_sheet()`, which is useful for organizing data by category or time period.\n"
   ]
  },
  {
   "cell_type": "code",
   "execution_count": null,
   "id": "db812483",
   "metadata": {},
   "outputs": [],
   "source": [
    "wb = Workbook()\n",
    "ws1 = wb.active\n",
    "ws1.title = \"Summary\"\n",
    "\n",
    "ws2 = wb.create_sheet(\"Details\")\n",
    "ws2.append([\"Product\", \"Price\"])\n",
    "\n",
    "wb.save(\"multi_sheet.xlsx\")"
   ]
  },
  {
   "cell_type": "markdown",
   "id": "1a19116c",
   "metadata": {},
   "source": [
    "\n",
    "### 3.p: You Try\n",
    "\n",
    "Create a workbook with two sheets: `Revenue` and `Forecast`. Add a header row to each.\n"
   ]
  },
  {
   "cell_type": "code",
   "execution_count": null,
   "id": "b324fdbb",
   "metadata": {},
   "outputs": [],
   "source": [
    "# Your code here\n"
   ]
  },
  {
   "cell_type": "markdown",
   "id": "7d02f5f6",
   "metadata": {},
   "source": [
    "\n",
    "## 4: Loading an Existing File\n",
    "\n",
    "Use `load_workbook()` to open and read data from an Excel file that already exists.\n"
   ]
  },
  {
   "cell_type": "code",
   "execution_count": null,
   "id": "3360df5b",
   "metadata": {},
   "outputs": [],
   "source": [
    "from openpyxl import load_workbook\n",
    "\n",
    "wb = load_workbook(\"sales.xlsx\")\n",
    "ws = wb[\"Sales\"]\n",
    "for row in ws.iter_rows(values_only=True):\n",
    "    print(row)"
   ]
  },
  {
   "cell_type": "markdown",
   "id": "fe95b297",
   "metadata": {},
   "source": [
    "\n",
    "### 4.p: You Try\n",
    "\n",
    "Load an existing Excel file and print all the rows from a sheet named `Expenses`.\n"
   ]
  },
  {
   "cell_type": "code",
   "execution_count": null,
   "id": "9d0664b3",
   "metadata": {},
   "outputs": [],
   "source": [
    "# Your code here\n"
   ]
  },
  {
   "cell_type": "markdown",
   "id": "85d5968a",
   "metadata": {},
   "source": [
    "\n",
    "## 5: Looping Through Sheets\n",
    "\n",
    "You can loop through all sheets in a workbook using `.worksheets`.\n"
   ]
  },
  {
   "cell_type": "code",
   "execution_count": null,
   "id": "47969758",
   "metadata": {},
   "outputs": [],
   "source": [
    "for sheet in wb.worksheets:\n",
    "    print(\"Sheet title:\", sheet.title)"
   ]
  },
  {
   "cell_type": "markdown",
   "id": "5369b467",
   "metadata": {},
   "source": [
    "\n",
    "### 5.p: You Try\n",
    "\n",
    "Print all sheet names in an Excel workbook that has at least two sheets.\n"
   ]
  },
  {
   "cell_type": "code",
   "execution_count": null,
   "id": "2128c209",
   "metadata": {},
   "outputs": [],
   "source": [
    "# Your code here\n"
   ]
  },
  {
   "cell_type": "markdown",
   "id": "9aab7ea7",
   "metadata": {},
   "source": [
    "\n",
    "## 6: Reading Data with `iter_rows()`\n",
    "\n",
    "`iter_rows()` lets you loop through the rows in a worksheet efficiently. You can set options like `min_row`, `max_row`, `min_col`, and `values_only=True`.\n"
   ]
  },
  {
   "cell_type": "code",
   "execution_count": null,
   "id": "6706bba3",
   "metadata": {},
   "outputs": [],
   "source": [
    "for row in ws.iter_rows(min_row=2, max_col=2, values_only=True):\n",
    "    item, amount = row\n",
    "    print(f\"{item}: ${amount}\")"
   ]
  },
  {
   "cell_type": "markdown",
   "id": "9589140e",
   "metadata": {},
   "source": [
    "\n",
    "### 6.p: You Try\n",
    "\n",
    "Print out all the data from row 2 onward in a worksheet that you import.\n"
   ]
  },
  {
   "cell_type": "code",
   "execution_count": null,
   "id": "a049f11d",
   "metadata": {},
   "outputs": [],
   "source": [
    "# Your code here\n"
   ]
  },
  {
   "cell_type": "markdown",
   "id": "10dada52",
   "metadata": {},
   "source": [
    "\n",
    "## Want to Learn More?\n",
    "\n",
    "If you'd like extra help or more details, you can:\n",
    "- **Ask AI**: Use the suggested questions in the `review_with_ai` file.\n",
    "- **Read your textbook**: Check the reading guide on Learning Suite beforehand.\n",
    "- **Review class practice files**: They contain more detailed examples and explanations, available on Learning Suite.\n"
   ]
  }
 ],
 "metadata": {
  "language_info": {
   "name": "python"
  }
 },
 "nbformat": 4,
 "nbformat_minor": 5
}
